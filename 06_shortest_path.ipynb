{
 "cells": [
  {
   "cell_type": "code",
   "execution_count": null,
   "metadata": {},
   "outputs": [],
   "source": [
    "edges = [\n",
    "    ['w', 'x'],\n",
    "    ['x', 'y'],\n",
    "    ['z', 'y'],\n",
    "    ['z', 'v'],\n",
    "    ['w', 'v'],\n",
    "]"
   ]
  },
  {
   "cell_type": "code",
   "execution_count": null,
   "metadata": {},
   "outputs": [],
   "source": [
    "def edges_to_adjacency(edges):\n",
    "    edges_to_adjacency = {}\n",
    "    for a, b in edges:\n",
    "        edges_to_adjacency.setdefault(a, []).append(b)\n",
    "        edges_to_adjacency.setdefault(b, []).append(a)\n",
    "    return edges_to_adjacency"
   ]
  },
  {
   "cell_type": "code",
   "execution_count": null,
   "metadata": {},
   "outputs": [],
   "source": [
    "graph = edges_to_adjacency(edges)\n",
    "graph"
   ]
  },
  {
   "cell_type": "code",
   "execution_count": null,
   "metadata": {},
   "outputs": [],
   "source": [
    "def shortest_path(graph, src, dest, visited=None):\n",
    "    if visited is None:\n",
    "        visited = set()\n",
    "\n",
    "    nodes = [(src, 0)]\n",
    "    while len(nodes) > 0:\n",
    "        current, dist = nodes.pop(0)\n",
    "        if current in visited:\n",
    "            continue\n",
    "        visited.add(current)\n",
    "        \n",
    "        if current == dest:\n",
    "            return dist\n",
    "\n",
    "        nodes.extend(((n, dist + 1) for n in graph[current]))\n",
    "    \n",
    "    return None"
   ]
  },
  {
   "cell_type": "code",
   "execution_count": null,
   "metadata": {},
   "outputs": [],
   "source": [
    "shortest_path(graph, 'w', 'z')"
   ]
  },
  {
   "cell_type": "code",
   "execution_count": null,
   "metadata": {},
   "outputs": [],
   "source": [
    "shortest_path(graph, 'y', 'z')"
   ]
  }
 ],
 "metadata": {
  "kernelspec": {
   "display_name": "graph",
   "language": "python",
   "name": "python3"
  },
  "language_info": {
   "codemirror_mode": {
    "name": "ipython",
    "version": 3
   },
   "file_extension": ".py",
   "mimetype": "text/x-python",
   "name": "python",
   "nbconvert_exporter": "python",
   "pygments_lexer": "ipython3",
   "version": "3.8.15"
  },
  "orig_nbformat": 4,
  "vscode": {
   "interpreter": {
    "hash": "71a5d42e6a4d0dbaa8683a09e95006e0f14b0fc6b962f75f363f83924443a91e"
   }
  }
 },
 "nbformat": 4,
 "nbformat_minor": 2
}
