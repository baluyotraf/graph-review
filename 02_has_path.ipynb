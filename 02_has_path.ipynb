{
 "cells": [
  {
   "cell_type": "code",
   "execution_count": null,
   "metadata": {},
   "outputs": [],
   "source": [
    "graph = {\n",
    "    'a': ['b', 'c'],\n",
    "    'b': ['d'],\n",
    "    'c': ['e'],\n",
    "    'd': [],\n",
    "    'e': ['b'],\n",
    "    'f': ['d'],\n",
    "}"
   ]
  },
  {
   "cell_type": "code",
   "execution_count": null,
   "metadata": {},
   "outputs": [],
   "source": [
    "def has_path_rec(graph, src, dest):\n",
    "    if src == dest:\n",
    "        return True\n",
    "\n",
    "    for neighbor in graph[src]:\n",
    "        if has_path_rec(graph, neighbor, dest):\n",
    "            return True\n",
    "\n",
    "    return False\n",
    "\n",
    "\n",
    "def has_path_depth(graph, src, dest):\n",
    "    nodes = [src]\n",
    "    while len(nodes) > 0:\n",
    "        current = nodes.pop()\n",
    "        if current == dest:\n",
    "            return True\n",
    "\n",
    "        nodes.extend(graph[current])\n",
    "\n",
    "    return False"
   ]
  },
  {
   "cell_type": "code",
   "execution_count": null,
   "metadata": {},
   "outputs": [],
   "source": [
    "(\n",
    "    has_path_rec(graph, 'a', 'e'),\n",
    "    has_path_rec(graph, 'f', 'a'),\n",
    ")"
   ]
  },
  {
   "cell_type": "code",
   "execution_count": null,
   "metadata": {},
   "outputs": [],
   "source": [
    "(\n",
    "    has_path_depth(graph, 'a', 'e'),\n",
    "    has_path_depth(graph, 'f', 'a'),\n",
    ")"
   ]
  },
  {
   "cell_type": "code",
   "execution_count": null,
   "metadata": {},
   "outputs": [],
   "source": [
    "def has_path_breath(graph, src, dest):\n",
    "    nodes = [src]\n",
    "    while len(nodes) > 0:\n",
    "        current = nodes.pop(0)\n",
    "        if current == dest:\n",
    "            return True\n",
    "\n",
    "        nodes.extend(graph[current])\n",
    "\n",
    "    return False"
   ]
  },
  {
   "cell_type": "code",
   "execution_count": null,
   "metadata": {},
   "outputs": [],
   "source": [
    "(\n",
    "    has_path_breath(graph, 'a', 'e'),\n",
    "    has_path_breath(graph, 'f', 'a'),\n",
    ")"
   ]
  }
 ],
 "metadata": {
  "kernelspec": {
   "display_name": "graph",
   "language": "python",
   "name": "python3"
  },
  "language_info": {
   "codemirror_mode": {
    "name": "ipython",
    "version": 3
   },
   "file_extension": ".py",
   "mimetype": "text/x-python",
   "name": "python",
   "nbconvert_exporter": "python",
   "pygments_lexer": "ipython3",
   "version": "3.8.15"
  },
  "orig_nbformat": 4,
  "vscode": {
   "interpreter": {
    "hash": "71a5d42e6a4d0dbaa8683a09e95006e0f14b0fc6b962f75f363f83924443a91e"
   }
  }
 },
 "nbformat": 4,
 "nbformat_minor": 2
}
