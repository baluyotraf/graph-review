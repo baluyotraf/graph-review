{
 "cells": [
  {
   "cell_type": "code",
   "execution_count": null,
   "metadata": {},
   "outputs": [],
   "source": [
    "graph = {\n",
    "    1: [2],\n",
    "    2: [1],\n",
    "    3: [],\n",
    "    4: [6],\n",
    "    5: [6],\n",
    "    6: [4, 5, 7, 8],\n",
    "    7: [6],\n",
    "    8: [6]\n",
    "}"
   ]
  },
  {
   "cell_type": "code",
   "execution_count": null,
   "metadata": {},
   "outputs": [],
   "source": [
    "def _traverse_rec(graph, node, visited=None):\n",
    "    if visited is None:\n",
    "        visited = set()  \n",
    "\n",
    "    if node in visited:\n",
    "        return\n",
    "\n",
    "    visited.add(node)\n",
    "\n",
    "    for neighbor in graph[node]:\n",
    "        _traverse_rec(graph, neighbor, visited)\n",
    "\n",
    "def n_connected_rec(graph, visited=None):\n",
    "    visited = visited or set()\n",
    "    n_connected = 0\n",
    "\n",
    "    for node in graph.keys():\n",
    "        if node in visited:\n",
    "            continue\n",
    "        _traverse_rec(graph, node, visited)\n",
    "        n_connected += 1\n",
    "\n",
    "    return n_connected\n",
    "\n",
    "\n",
    "\n",
    "def n_connected_depth(graph, visited=None):\n",
    "    if visited is None:\n",
    "        visited = set()\n",
    "\n",
    "    n_connected = 0\n",
    "\n",
    "    for node in graph.keys():\n",
    "        if node in visited:\n",
    "            continue\n",
    "\n",
    "        nodes = [node]\n",
    "\n",
    "        while len(nodes) > 0:\n",
    "            current = nodes.pop()\n",
    "            if current in visited:\n",
    "                continue\n",
    "            visited.add(current)\n",
    "\n",
    "            nodes.extend(graph[current])\n",
    "        \n",
    "        n_connected += 1\n",
    "\n",
    "    return n_connected"
   ]
  },
  {
   "cell_type": "code",
   "execution_count": null,
   "metadata": {},
   "outputs": [],
   "source": [
    "n_connected_rec(graph)"
   ]
  },
  {
   "cell_type": "code",
   "execution_count": null,
   "metadata": {},
   "outputs": [],
   "source": [
    "n_connected_depth(graph)"
   ]
  },
  {
   "cell_type": "code",
   "execution_count": null,
   "metadata": {},
   "outputs": [],
   "source": [
    "def n_connected_breadth(graph, visited=None):\n",
    "    if visited is None:\n",
    "        visited = set()\n",
    "    n_connected = 0\n",
    "\n",
    "    for node in graph.keys():\n",
    "        if node in visited:\n",
    "            continue\n",
    "\n",
    "        nodes = [node]\n",
    "        \n",
    "        while len(nodes) > 0:\n",
    "            current = nodes.pop(0)\n",
    "            if current in visited:\n",
    "                continue\n",
    "            visited.add(current)\n",
    "\n",
    "            nodes.extend(graph[current])\n",
    "\n",
    "        n_connected += 1\n",
    "    \n",
    "    return n_connected"
   ]
  },
  {
   "cell_type": "code",
   "execution_count": null,
   "metadata": {},
   "outputs": [],
   "source": [
    "n_connected_breadth(graph)"
   ]
  }
 ],
 "metadata": {
  "kernelspec": {
   "display_name": "graph",
   "language": "python",
   "name": "python3"
  },
  "language_info": {
   "codemirror_mode": {
    "name": "ipython",
    "version": 3
   },
   "file_extension": ".py",
   "mimetype": "text/x-python",
   "name": "python",
   "nbconvert_exporter": "python",
   "pygments_lexer": "ipython3",
   "version": "3.8.15"
  },
  "orig_nbformat": 4,
  "vscode": {
   "interpreter": {
    "hash": "71a5d42e6a4d0dbaa8683a09e95006e0f14b0fc6b962f75f363f83924443a91e"
   }
  }
 },
 "nbformat": 4,
 "nbformat_minor": 2
}
