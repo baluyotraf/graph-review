{
 "cells": [
  {
   "cell_type": "code",
   "execution_count": null,
   "metadata": {},
   "outputs": [],
   "source": [
    "graph = {\n",
    "    'a': ['b', 'c'],\n",
    "    'b': ['d'],\n",
    "    'c': ['e'],\n",
    "    'd': [],\n",
    "    'e': ['b'],\n",
    "    'f': ['d'],\n",
    "}"
   ]
  },
  {
   "cell_type": "code",
   "execution_count": null,
   "metadata": {},
   "outputs": [],
   "source": [
    "def print_node(*args):\n",
    "    print(*args, end=' ')"
   ]
  },
  {
   "cell_type": "code",
   "execution_count": null,
   "metadata": {},
   "outputs": [],
   "source": [
    "def depth_first_rec(graph, node):\n",
    "    print_node(node)\n",
    "    for neighbor in graph[node]:\n",
    "        depth_first_rec(graph, neighbor)\n",
    "\n",
    "\n",
    "def depth_first_loop(graph, node):\n",
    "    nodes = [node]\n",
    "    while len(nodes) > 0:\n",
    "        current = nodes.pop()\n",
    "        print_node(current)\n",
    "\n",
    "        nodes.extend(graph[current])"
   ]
  },
  {
   "cell_type": "code",
   "execution_count": null,
   "metadata": {},
   "outputs": [],
   "source": [
    "depth_first_rec(graph, 'a')"
   ]
  },
  {
   "cell_type": "code",
   "execution_count": null,
   "metadata": {},
   "outputs": [],
   "source": [
    "depth_first_loop(graph, 'a')"
   ]
  },
  {
   "cell_type": "code",
   "execution_count": null,
   "metadata": {},
   "outputs": [],
   "source": [
    "def breadth_first(graph, node):\n",
    "    nodes = [node]\n",
    "    while len(nodes) > 0:\n",
    "        current = nodes.pop(0)\n",
    "        print_node(current)\n",
    "\n",
    "        nodes.extend(graph[current])"
   ]
  },
  {
   "cell_type": "code",
   "execution_count": null,
   "metadata": {},
   "outputs": [],
   "source": [
    "breadth_first(graph, 'a')"
   ]
  }
 ],
 "metadata": {
  "kernelspec": {
   "display_name": "graph",
   "language": "python",
   "name": "python3"
  },
  "language_info": {
   "codemirror_mode": {
    "name": "ipython",
    "version": 3
   },
   "file_extension": ".py",
   "mimetype": "text/x-python",
   "name": "python",
   "nbconvert_exporter": "python",
   "pygments_lexer": "ipython3",
   "version": "3.8.15"
  },
  "orig_nbformat": 4,
  "vscode": {
   "interpreter": {
    "hash": "71a5d42e6a4d0dbaa8683a09e95006e0f14b0fc6b962f75f363f83924443a91e"
   }
  }
 },
 "nbformat": 4,
 "nbformat_minor": 2
}
