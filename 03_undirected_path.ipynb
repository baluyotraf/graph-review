{
 "cells": [
  {
   "cell_type": "code",
   "execution_count": null,
   "metadata": {},
   "outputs": [],
   "source": [
    "edges = [\n",
    "    ['i', 'j'],\n",
    "    ['k', 'i'],\n",
    "    ['m', 'k'],\n",
    "    ['k', 'l'],\n",
    "    ['o', 'n'],\n",
    "]"
   ]
  },
  {
   "cell_type": "code",
   "execution_count": null,
   "metadata": {},
   "outputs": [],
   "source": [
    "def edges_to_adjacency(edges):\n",
    "    edges_to_adjacency = {}\n",
    "    for a, b in edges:\n",
    "        edges_to_adjacency.setdefault(a, []).append(b)\n",
    "        edges_to_adjacency.setdefault(b, []).append(a)\n",
    "    return edges_to_adjacency"
   ]
  },
  {
   "cell_type": "code",
   "execution_count": null,
   "metadata": {},
   "outputs": [],
   "source": [
    "graph = edges_to_adjacency(edges)\n",
    "graph"
   ]
  },
  {
   "cell_type": "code",
   "execution_count": null,
   "metadata": {},
   "outputs": [],
   "source": [
    "def has_path_rec(graph, src, dest, visited=None):\n",
    "    if visited is None:\n",
    "        visited = set()\n",
    "\n",
    "    if src in visited:\n",
    "        return False\n",
    "    \n",
    "    visited.add(src)\n",
    "\n",
    "    if src == dest:\n",
    "        return True\n",
    "\n",
    "    for neighbor in graph[src]:\n",
    "        if has_path_rec(graph, neighbor, dest, visited):\n",
    "            return True\n",
    "\n",
    "    return False\n",
    "\n",
    "\n",
    "def has_path_depth(graph, src, dest, visited=None):\n",
    "    if visited is None:\n",
    "        visited = set()\n",
    "\n",
    "    nodes = [src]\n",
    "    while len(nodes) > 0:\n",
    "        current = nodes.pop()\n",
    "        if current in visited:\n",
    "            continue\n",
    "        visited.add(current)\n",
    "\n",
    "        if current == dest:\n",
    "            return True\n",
    "\n",
    "        nodes.extend(graph[current])\n",
    "    \n",
    "    return False"
   ]
  },
  {
   "cell_type": "code",
   "execution_count": null,
   "metadata": {},
   "outputs": [],
   "source": [
    "(\n",
    "    has_path_rec(graph, 'm', 'j'),\n",
    "    has_path_rec(graph, 'j', 'o'),\n",
    ")"
   ]
  },
  {
   "cell_type": "code",
   "execution_count": null,
   "metadata": {},
   "outputs": [],
   "source": [
    "(\n",
    "    has_path_depth(graph, 'm', 'j'),\n",
    "    has_path_depth(graph, 'j', 'o'),\n",
    ")"
   ]
  },
  {
   "cell_type": "code",
   "execution_count": null,
   "metadata": {},
   "outputs": [],
   "source": [
    "def has_path_breadth(graph, src, dest, visited=None):\n",
    "    if visited is None:\n",
    "        visited = set()\n",
    "\n",
    "    nodes = [src]\n",
    "    while len(nodes) > 0:\n",
    "        current = nodes.pop(0)\n",
    "        if current in visited:\n",
    "            continue\n",
    "        visited.add(current)\n",
    "        \n",
    "        if current == dest:\n",
    "            return True\n",
    "\n",
    "        nodes.extend(graph[current])\n",
    "    \n",
    "    return False"
   ]
  },
  {
   "cell_type": "code",
   "execution_count": null,
   "metadata": {},
   "outputs": [],
   "source": [
    "(\n",
    "    has_path_breadth(graph, 'm', 'j'),\n",
    "    has_path_breadth(graph, 'j', 'o'),\n",
    ")"
   ]
  }
 ],
 "metadata": {
  "kernelspec": {
   "display_name": "graph",
   "language": "python",
   "name": "python3"
  },
  "language_info": {
   "codemirror_mode": {
    "name": "ipython",
    "version": 3
   },
   "file_extension": ".py",
   "mimetype": "text/x-python",
   "name": "python",
   "nbconvert_exporter": "python",
   "pygments_lexer": "ipython3",
   "version": "3.8.15"
  },
  "orig_nbformat": 4,
  "vscode": {
   "interpreter": {
    "hash": "71a5d42e6a4d0dbaa8683a09e95006e0f14b0fc6b962f75f363f83924443a91e"
   }
  }
 },
 "nbformat": 4,
 "nbformat_minor": 2
}
