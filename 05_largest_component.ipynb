{
 "cells": [
  {
   "cell_type": "code",
   "execution_count": null,
   "metadata": {},
   "outputs": [],
   "source": [
    "graph = {\n",
    "    0: [8, 1, 5],\n",
    "    1: [0],\n",
    "    5: [0, 8],\n",
    "    8: [0, 5],\n",
    "    2: [3, 4],\n",
    "    3: [2, 4],\n",
    "    4: [3, 2],\n",
    "}"
   ]
  },
  {
   "cell_type": "code",
   "execution_count": null,
   "metadata": {},
   "outputs": [],
   "source": [
    "def _traverse_rec(graph, node, n_visited=0, visited=None):\n",
    "    if visited is None:\n",
    "        visited = set()  \n",
    "\n",
    "    if node in visited:\n",
    "        return n_visited\n",
    "\n",
    "    visited.add(node)\n",
    "\n",
    "    n_visited += 1\n",
    "\n",
    "    for neighbor in graph[node]:\n",
    "        n_visited = _traverse_rec(graph, neighbor, n_visited, visited)\n",
    "\n",
    "    return n_visited\n",
    "    \n",
    "\n",
    "def n_connected_rec(graph, visited=None):\n",
    "    visited = visited or set()\n",
    "    nlargest = 0\n",
    "\n",
    "    for node in graph.keys():\n",
    "        if node in visited:\n",
    "            continue\n",
    "\n",
    "        n_visited = _traverse_rec(graph, node, 0, visited)\n",
    "        if n_visited > nlargest:\n",
    "            nlargest = n_visited\n",
    "\n",
    "    return nlargest\n",
    "\n",
    "\n",
    "def nlargest_connected_depth(graph, visited=None):\n",
    "    if visited is None:\n",
    "        visited = set()\n",
    "\n",
    "    nlargest = 0\n",
    "\n",
    "    for node in graph.keys():\n",
    "        if node in visited:\n",
    "            continue\n",
    "\n",
    "        nodes = [node]\n",
    "        n_visited = 0\n",
    "        \n",
    "        while len(nodes) > 0:\n",
    "            current = nodes.pop()\n",
    "            if current in visited:\n",
    "                continue\n",
    "            visited.add(current)\n",
    "\n",
    "            n_visited += 1\n",
    "\n",
    "            nodes.extend(graph[current])\n",
    "        \n",
    "        if nlargest < n_visited:\n",
    "            nlargest = n_visited\n",
    "\n",
    "    return nlargest"
   ]
  },
  {
   "cell_type": "code",
   "execution_count": null,
   "metadata": {},
   "outputs": [],
   "source": [
    "n_connected_rec(graph)"
   ]
  },
  {
   "cell_type": "code",
   "execution_count": null,
   "metadata": {},
   "outputs": [],
   "source": [
    "nlargest_connected_depth(graph)"
   ]
  },
  {
   "cell_type": "code",
   "execution_count": null,
   "metadata": {},
   "outputs": [],
   "source": [
    "def nlargest_connected_breadth(graph, visited=None):\n",
    "    if visited is None:\n",
    "        visited = set()\n",
    "    nlargest = 0\n",
    "\n",
    "    for node in graph.keys():\n",
    "        if node in visited:\n",
    "            continue\n",
    "\n",
    "        nodes = [node]\n",
    "        n_visited = 0\n",
    "\n",
    "        while len(nodes) > 0:\n",
    "            current = nodes.pop(0)\n",
    "            if current in visited:\n",
    "                continue\n",
    "            visited.add(current)\n",
    "\n",
    "            n_visited += 1\n",
    "\n",
    "            nodes.extend(graph[current])\n",
    "\n",
    "        if nlargest < n_visited:\n",
    "            nlargest = n_visited\n",
    "    \n",
    "    return nlargest"
   ]
  },
  {
   "cell_type": "code",
   "execution_count": null,
   "metadata": {},
   "outputs": [],
   "source": [
    "nlargest_connected_breadth(graph)"
   ]
  }
 ],
 "metadata": {
  "kernelspec": {
   "display_name": "graph",
   "language": "python",
   "name": "python3"
  },
  "language_info": {
   "codemirror_mode": {
    "name": "ipython",
    "version": 3
   },
   "file_extension": ".py",
   "mimetype": "text/x-python",
   "name": "python",
   "nbconvert_exporter": "python",
   "pygments_lexer": "ipython3",
   "version": "3.8.15"
  },
  "orig_nbformat": 4,
  "vscode": {
   "interpreter": {
    "hash": "71a5d42e6a4d0dbaa8683a09e95006e0f14b0fc6b962f75f363f83924443a91e"
   }
  }
 },
 "nbformat": 4,
 "nbformat_minor": 2
}
