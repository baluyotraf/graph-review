{
 "cells": [
  {
   "cell_type": "code",
   "execution_count": null,
   "metadata": {},
   "outputs": [],
   "source": [
    "graph = [\n",
    "    [False, True,  False, False, True,  False],\n",
    "    [True,  True,  False, False, True,  False],\n",
    "    [False, True,  False, False, False, False],\n",
    "    [False, False, False, True,  True,  False],\n",
    "    [False, False, False, True,  True,  False],\n",
    "    [False, False, False, True,  False, False],\n",
    "]"
   ]
  },
  {
   "cell_type": "code",
   "execution_count": null,
   "metadata": {},
   "outputs": [],
   "source": [
    "def get_value(graph, idx):\n",
    "    row, col = idx\n",
    "    return graph[row][col]\n",
    "\n",
    "# Defining as a function in case diagonals should be handled with connection\n",
    "def get_neighbors(graph, idx):\n",
    "    height = len(graph)\n",
    "    width = len(graph[0])\n",
    "\n",
    "    offsets = [\n",
    "        (0, 1),\n",
    "        (1, 0),\n",
    "        (0, -1),\n",
    "        (-1, 0),\n",
    "    ]\n",
    "\n",
    "    neighbors = []\n",
    "    row, col = idx\n",
    "    for roffset, coffset in offsets:\n",
    "        nrow = row + roffset\n",
    "        if nrow >= height or nrow < 0:\n",
    "            continue\n",
    "        ncol = col + coffset\n",
    "        if ncol >= width or ncol < 0:\n",
    "            continue\n",
    "\n",
    "        neighbors.append((nrow, ncol))\n",
    "\n",
    "    return neighbors"
   ]
  },
  {
   "cell_type": "code",
   "execution_count": null,
   "metadata": {},
   "outputs": [],
   "source": [
    "def _count_island_rec(graph, node, visited=None):\n",
    "    if visited is None:\n",
    "        visited = set()\n",
    "\n",
    "    if node in visited:\n",
    "        return 0\n",
    "    \n",
    "    visited.add(node)\n",
    "\n",
    "    size = 0\n",
    "\n",
    "    if get_value(graph, node):\n",
    "        size += 1\n",
    "\n",
    "        for neighbors in get_neighbors(graph, node):\n",
    "            size += _count_island_rec(graph, neighbors, visited)\n",
    "\n",
    "    return size\n",
    "\n",
    "\n",
    "def minimum_island_rec(graph):\n",
    "    height = len(graph)\n",
    "    width = len(graph[0])\n",
    "    \n",
    "    visited = set()\n",
    "    minimum_island = height * width\n",
    "\n",
    "    for row in range(height):\n",
    "        for col in range(width):\n",
    "            size = _count_island_rec(graph, (row, col), visited)\n",
    "            if size < minimum_island and size > 0:\n",
    "                minimum_island = size\n",
    "\n",
    "    return minimum_island\n"
   ]
  },
  {
   "cell_type": "code",
   "execution_count": null,
   "metadata": {},
   "outputs": [],
   "source": [
    "minimum_island_rec(graph)"
   ]
  },
  {
   "cell_type": "code",
   "execution_count": null,
   "metadata": {},
   "outputs": [],
   "source": [
    "def minimum_island_depth(graph):\n",
    "    height = len(graph)\n",
    "    width = len(graph[0])\n",
    "\n",
    "    visited = set()\n",
    "    minimum_island = height * width\n",
    "\n",
    "    for row in range(height):\n",
    "        for col in range(width):\n",
    "        \n",
    "            nodes = [(row, col)]\n",
    "            size = 0\n",
    "\n",
    "            while len(nodes):\n",
    "                current = nodes.pop()\n",
    "\n",
    "                if current in visited:\n",
    "                    continue\n",
    "                visited.add(current)\n",
    "\n",
    "                if get_value(graph, current):\n",
    "                    size += 1\n",
    "                    nodes.extend(get_neighbors(graph, current))    \n",
    "\n",
    "            if size > 0 and size < minimum_island:\n",
    "                minimum_island = size\n",
    "\n",
    "    return minimum_island"
   ]
  },
  {
   "cell_type": "code",
   "execution_count": null,
   "metadata": {},
   "outputs": [],
   "source": [
    "minimum_island_depth(graph)"
   ]
  },
  {
   "cell_type": "code",
   "execution_count": null,
   "metadata": {},
   "outputs": [],
   "source": [
    "def minimum_island_breadth(graph):\n",
    "    height = len(graph)\n",
    "    width = len(graph[0])\n",
    "\n",
    "    visited = set()\n",
    "    minimum_island = height * width\n",
    "\n",
    "    for row in range(height):\n",
    "        for col in range(width):\n",
    "        \n",
    "            nodes = [(row, col)]\n",
    "            size = 0\n",
    "\n",
    "            while len(nodes):\n",
    "                current = nodes.pop(0)\n",
    "\n",
    "                if current in visited:\n",
    "                    continue\n",
    "                visited.add(current)\n",
    "\n",
    "                if get_value(graph, current):\n",
    "                    size += 1\n",
    "                    nodes.extend(get_neighbors(graph, current))    \n",
    "\n",
    "            if size > 0 and size < minimum_island:\n",
    "                minimum_island = size\n",
    "\n",
    "    return minimum_island"
   ]
  },
  {
   "cell_type": "code",
   "execution_count": null,
   "metadata": {},
   "outputs": [],
   "source": [
    "minimum_island_breadth(graph)"
   ]
  }
 ],
 "metadata": {
  "kernelspec": {
   "display_name": "graph",
   "language": "python",
   "name": "python3"
  },
  "language_info": {
   "codemirror_mode": {
    "name": "ipython",
    "version": 3
   },
   "file_extension": ".py",
   "mimetype": "text/x-python",
   "name": "python",
   "nbconvert_exporter": "python",
   "pygments_lexer": "ipython3",
   "version": "3.8.15"
  },
  "orig_nbformat": 4,
  "vscode": {
   "interpreter": {
    "hash": "71a5d42e6a4d0dbaa8683a09e95006e0f14b0fc6b962f75f363f83924443a91e"
   }
  }
 },
 "nbformat": 4,
 "nbformat_minor": 2
}
