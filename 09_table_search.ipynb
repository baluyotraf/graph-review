{
 "cells": [
  {
   "cell_type": "code",
   "execution_count": null,
   "metadata": {},
   "outputs": [],
   "source": [
    "TABLES = {\n",
    "    'X': ['A', 'B', 'C'],\n",
    "    'Y': ['A', 'D', 'E'],\n",
    "    'Z': ['D', 'F'],\n",
    "}"
   ]
  },
  {
   "cell_type": "code",
   "execution_count": null,
   "metadata": {},
   "outputs": [],
   "source": [
    "def reverse_table(table_dict):\n",
    "    reverse = {}\n",
    "    for table, columns in table_dict.items():\n",
    "        for column in columns:\n",
    "            reverse.setdefault(column, []).append(table)\n",
    "    return reverse\n",
    "\n",
    "REV_TABLES = reverse_table(TABLES)\n",
    "REV_TABLES"
   ]
  },
  {
   "cell_type": "code",
   "execution_count": null,
   "metadata": {},
   "outputs": [],
   "source": [
    "TABLES['X']"
   ]
  },
  {
   "cell_type": "code",
   "execution_count": null,
   "metadata": {},
   "outputs": [],
   "source": [
    "REV_TABLES['A']"
   ]
  },
  {
   "cell_type": "code",
   "execution_count": null,
   "metadata": {},
   "outputs": [],
   "source": [
    "def get_neighbor(table, reverse, element):\n",
    "    table_name, column_name = element\n",
    "\n",
    "    same_table_columns = set((table_name, col) for col in table[table_name])\n",
    "\n",
    "    same_name_columns = set(\n",
    "        (tbl, column_name) \n",
    "        for tbl in reverse[column_name] \n",
    "    )\n",
    "    return list(same_table_columns | same_name_columns)\n",
    "\n",
    "\n",
    "get_neighbor(TABLES, REV_TABLES, ('X', 'A'))"
   ]
  },
  {
   "cell_type": "code",
   "execution_count": null,
   "metadata": {},
   "outputs": [],
   "source": [
    "def breadth_search(table, source, target):\n",
    "    visited = set()\n",
    "    reverse = reverse_table(table)\n",
    "    queue = [(source, [source])]\n",
    "\n",
    "    while len(queue) > 0:\n",
    "        item, path = queue.pop(0)\n",
    "\n",
    "        if item == target:\n",
    "            return path\n",
    "\n",
    "        if item not in visited:\n",
    "            visited.add(item)\n",
    "            queue.extend([(n, [*path, n]) for n in get_neighbor(table, reverse, item)])\n"
   ]
  },
  {
   "cell_type": "code",
   "execution_count": null,
   "metadata": {},
   "outputs": [],
   "source": [
    "breadth_search(TABLES, ('Y', 'A'), ('Z', 'F'))"
   ]
  },
  {
   "cell_type": "code",
   "execution_count": null,
   "metadata": {},
   "outputs": [],
   "source": [
    "breadth_search(TABLES, ('X', 'B'), ('Z', 'F'))"
   ]
  }
 ],
 "metadata": {
  "kernelspec": {
   "display_name": "boggle",
   "language": "python",
   "name": "python3"
  },
  "language_info": {
   "codemirror_mode": {
    "name": "ipython",
    "version": 3
   },
   "file_extension": ".py",
   "mimetype": "text/x-python",
   "name": "python",
   "nbconvert_exporter": "python",
   "pygments_lexer": "ipython3",
   "version": "3.8.15"
  },
  "orig_nbformat": 4,
  "vscode": {
   "interpreter": {
    "hash": "dc2f0027d696a74d75589a841626b267f82c124d1461f9e7ba52f7f94834f4cf"
   }
  }
 },
 "nbformat": 4,
 "nbformat_minor": 2
}
